{
 "cells": [
  {
   "cell_type": "code",
   "execution_count": 42,
   "id": "1fd00319",
   "metadata": {},
   "outputs": [],
   "source": [
    "import pandas as pd\n",
    "import numpy as np"
   ]
  },
  {
   "cell_type": "code",
   "execution_count": 43,
   "id": "43839757",
   "metadata": {},
   "outputs": [],
   "source": [
    "import pickle"
   ]
  },
  {
   "cell_type": "code",
   "execution_count": 44,
   "id": "366b74b1",
   "metadata": {},
   "outputs": [],
   "source": [
    "# userx = ['b', 'f', 'n', 't', 'a', 'a', 'c', 'b', 'k', 'e', 'b', 'f', 'y', 'n', 'b', 'p', 'o', 'o', 'e', 'n', 'c', 'l']\n",
    "userx = ['b', 'f', 'n', 't', 'a', 'a', 'c', 'b', 'k', 'e', 'b', 'f', 'y', 'n', 'n', 'p', 'n', 'n', 'c', 'k', 'a', 'g'] "
   ]
  },
  {
   "cell_type": "code",
   "execution_count": 45,
   "id": "19aa4419",
   "metadata": {},
   "outputs": [],
   "source": [
    "with open('model.p', 'rb') as file:\n",
    "        model = pickle.load(file)"
   ]
  },
  {
   "cell_type": "code",
   "execution_count": 46,
   "id": "172ae0d2",
   "metadata": {},
   "outputs": [],
   "source": [
    "with open('mushrooms.p', 'rb') as file:\n",
    "        mushrooms = pickle.load(file)"
   ]
  },
  {
   "cell_type": "code",
   "execution_count": 47,
   "id": "4eddb336",
   "metadata": {},
   "outputs": [],
   "source": [
    "mushrooms_new = mushrooms.copy()"
   ]
  },
  {
   "cell_type": "code",
   "execution_count": 48,
   "id": "c4a35109",
   "metadata": {},
   "outputs": [],
   "source": [
    "# i only wnat the columns' names now\n",
    "mushrooms_new = mushrooms_new.iloc[0:0]"
   ]
  },
  {
   "cell_type": "code",
   "execution_count": 49,
   "id": "05e4bc00",
   "metadata": {},
   "outputs": [],
   "source": [
    "list_of_unique = []\n",
    "for col in mushrooms:\n",
    "    list_of_unique.append(list(mushrooms[col].unique()))"
   ]
  },
  {
   "cell_type": "code",
   "execution_count": 50,
   "id": "1a66614b",
   "metadata": {},
   "outputs": [],
   "source": [
    "n_rows = 12"
   ]
  },
  {
   "cell_type": "code",
   "execution_count": 51,
   "id": "92315790",
   "metadata": {},
   "outputs": [],
   "source": [
    "for i in range(n_rows):\n",
    "    # print(i)\n",
    "    temp_list = []\n",
    "    for col in list_of_unique:\n",
    "        if (len(col) > i):\n",
    "            # print(col[i])\n",
    "            temp_list.append(col[i])\n",
    "        else:\n",
    "            # print(col[0])\n",
    "            temp_list.append(col[0])\n",
    "    mushrooms_new.loc[i] = temp_list"
   ]
  },
  {
   "cell_type": "code",
   "execution_count": 52,
   "id": "821b9cd0",
   "metadata": {},
   "outputs": [],
   "source": [
    "# mushrooms_new"
   ]
  },
  {
   "cell_type": "code",
   "execution_count": 53,
   "id": "5f457a45",
   "metadata": {},
   "outputs": [],
   "source": [
    "# drop class from this df\n",
    "mushrooms_new = mushrooms_new.drop(columns=['class'])"
   ]
  },
  {
   "cell_type": "code",
   "execution_count": 54,
   "id": "70698e07",
   "metadata": {},
   "outputs": [],
   "source": [
    "# start function here"
   ]
  },
  {
   "cell_type": "code",
   "execution_count": 55,
   "id": "c4f56cdd",
   "metadata": {},
   "outputs": [],
   "source": [
    "mushrooms_new.loc[12] = userx"
   ]
  },
  {
   "cell_type": "code",
   "execution_count": 56,
   "id": "2fa13947",
   "metadata": {},
   "outputs": [],
   "source": [
    "# # column class: 0 -> poisonous, 1 -> edible\n",
    "\n",
    "# # f - false, t - true\n",
    "mushrooms_new['bruises'] = mushrooms_new['bruises'].replace({'f':0, 't':1})\n",
    "\n",
    "# # a - attached, f-free\n",
    "mushrooms_new['gill-attachment'] = mushrooms_new['gill-attachment'].replace({'f':0, 'a':1})\n",
    "\n",
    "# # c - close, w - crowded\n",
    "mushrooms_new['gill-spacing'] = mushrooms_new['gill-spacing'].replace({'c':0, 'w':1})\n",
    "\n",
    "\n",
    "mushrooms_new['gill-size'] = mushrooms_new['gill-size'].replace({'n':0, 'b':1})\n",
    "\n",
    "mushrooms_new['stalk-shape'] = mushrooms_new['stalk-shape'].replace({'t':0, 'e':1})"
   ]
  },
  {
   "cell_type": "code",
   "execution_count": 57,
   "id": "5c3e70cc",
   "metadata": {},
   "outputs": [],
   "source": [
    "many_labels = ['cap-shape', 'cap-surface', 'cap-color', 'odor', 'gill-color', 'stalk-root', 'stalk-surface-above-ring', 'stalk-surface-below-ring', 'stalk-color-above-ring', 'stalk-color-below-ring', 'veil-color', 'ring-number', 'ring-type', 'spore-print-color', 'population', 'habitat']"
   ]
  },
  {
   "cell_type": "code",
   "execution_count": 58,
   "id": "51e438b0",
   "metadata": {},
   "outputs": [],
   "source": [
    "mushrooms_new = mushrooms_new.drop(columns=['veil-type'])"
   ]
  },
  {
   "cell_type": "code",
   "execution_count": 59,
   "id": "8ead2f96",
   "metadata": {},
   "outputs": [],
   "source": [
    "mushrooms_new = pd.get_dummies(mushrooms_new, columns= many_labels)"
   ]
  },
  {
   "cell_type": "code",
   "execution_count": 60,
   "id": "bcbbb66a",
   "metadata": {},
   "outputs": [
    {
     "ename": "ValueError",
     "evalue": "Incompatible dimension for X and Y matrices: X.shape[1] == 112 while Y.shape[1] == 111",
     "output_type": "error",
     "traceback": [
      "\u001b[1;31m---------------------------------------------------------------------------\u001b[0m",
      "\u001b[1;31mValueError\u001b[0m                                Traceback (most recent call last)",
      "\u001b[1;32m<ipython-input-60-88fbad7e0a3a>\u001b[0m in \u001b[0;36m<module>\u001b[1;34m\u001b[0m\n\u001b[1;32m----> 1\u001b[1;33m \u001b[0msol\u001b[0m \u001b[1;33m=\u001b[0m \u001b[0mmodel\u001b[0m\u001b[1;33m.\u001b[0m\u001b[0mpredict\u001b[0m\u001b[1;33m(\u001b[0m\u001b[0mmushrooms_new\u001b[0m\u001b[1;33m)\u001b[0m\u001b[1;33m\u001b[0m\u001b[1;33m\u001b[0m\u001b[0m\n\u001b[0m\u001b[0;32m      2\u001b[0m \u001b[0msol\u001b[0m \u001b[1;33m=\u001b[0m \u001b[0msol\u001b[0m\u001b[1;33m[\u001b[0m\u001b[1;33m-\u001b[0m\u001b[1;36m1\u001b[0m\u001b[1;33m]\u001b[0m\u001b[1;33m\u001b[0m\u001b[1;33m\u001b[0m\u001b[0m\n\u001b[0;32m      3\u001b[0m \u001b[0msol\u001b[0m\u001b[1;33m\u001b[0m\u001b[1;33m\u001b[0m\u001b[0m\n",
      "\u001b[1;32m~\\Anaconda3\\lib\\site-packages\\sklearn\\neighbors\\_classification.py\u001b[0m in \u001b[0;36mpredict\u001b[1;34m(self, X)\u001b[0m\n\u001b[0;32m    195\u001b[0m         \u001b[0mX\u001b[0m \u001b[1;33m=\u001b[0m \u001b[0mcheck_array\u001b[0m\u001b[1;33m(\u001b[0m\u001b[0mX\u001b[0m\u001b[1;33m,\u001b[0m \u001b[0maccept_sparse\u001b[0m\u001b[1;33m=\u001b[0m\u001b[1;34m'csr'\u001b[0m\u001b[1;33m)\u001b[0m\u001b[1;33m\u001b[0m\u001b[1;33m\u001b[0m\u001b[0m\n\u001b[0;32m    196\u001b[0m \u001b[1;33m\u001b[0m\u001b[0m\n\u001b[1;32m--> 197\u001b[1;33m         \u001b[0mneigh_dist\u001b[0m\u001b[1;33m,\u001b[0m \u001b[0mneigh_ind\u001b[0m \u001b[1;33m=\u001b[0m \u001b[0mself\u001b[0m\u001b[1;33m.\u001b[0m\u001b[0mkneighbors\u001b[0m\u001b[1;33m(\u001b[0m\u001b[0mX\u001b[0m\u001b[1;33m)\u001b[0m\u001b[1;33m\u001b[0m\u001b[1;33m\u001b[0m\u001b[0m\n\u001b[0m\u001b[0;32m    198\u001b[0m         \u001b[0mclasses_\u001b[0m \u001b[1;33m=\u001b[0m \u001b[0mself\u001b[0m\u001b[1;33m.\u001b[0m\u001b[0mclasses_\u001b[0m\u001b[1;33m\u001b[0m\u001b[1;33m\u001b[0m\u001b[0m\n\u001b[0;32m    199\u001b[0m         \u001b[0m_y\u001b[0m \u001b[1;33m=\u001b[0m \u001b[0mself\u001b[0m\u001b[1;33m.\u001b[0m\u001b[0m_y\u001b[0m\u001b[1;33m\u001b[0m\u001b[1;33m\u001b[0m\u001b[0m\n",
      "\u001b[1;32m~\\Anaconda3\\lib\\site-packages\\sklearn\\neighbors\\_base.py\u001b[0m in \u001b[0;36mkneighbors\u001b[1;34m(self, X, n_neighbors, return_distance)\u001b[0m\n\u001b[0;32m    703\u001b[0m                 \u001b[0mkwds\u001b[0m \u001b[1;33m=\u001b[0m \u001b[0mself\u001b[0m\u001b[1;33m.\u001b[0m\u001b[0meffective_metric_params_\u001b[0m\u001b[1;33m\u001b[0m\u001b[1;33m\u001b[0m\u001b[0m\n\u001b[0;32m    704\u001b[0m \u001b[1;33m\u001b[0m\u001b[0m\n\u001b[1;32m--> 705\u001b[1;33m             chunked_results = list(pairwise_distances_chunked(\n\u001b[0m\u001b[0;32m    706\u001b[0m                 \u001b[0mX\u001b[0m\u001b[1;33m,\u001b[0m \u001b[0mself\u001b[0m\u001b[1;33m.\u001b[0m\u001b[0m_fit_X\u001b[0m\u001b[1;33m,\u001b[0m \u001b[0mreduce_func\u001b[0m\u001b[1;33m=\u001b[0m\u001b[0mreduce_func\u001b[0m\u001b[1;33m,\u001b[0m\u001b[1;33m\u001b[0m\u001b[1;33m\u001b[0m\u001b[0m\n\u001b[0;32m    707\u001b[0m                 \u001b[0mmetric\u001b[0m\u001b[1;33m=\u001b[0m\u001b[0mself\u001b[0m\u001b[1;33m.\u001b[0m\u001b[0meffective_metric_\u001b[0m\u001b[1;33m,\u001b[0m \u001b[0mn_jobs\u001b[0m\u001b[1;33m=\u001b[0m\u001b[0mn_jobs\u001b[0m\u001b[1;33m,\u001b[0m\u001b[1;33m\u001b[0m\u001b[1;33m\u001b[0m\u001b[0m\n",
      "\u001b[1;32m~\\Anaconda3\\lib\\site-packages\\sklearn\\metrics\\pairwise.py\u001b[0m in \u001b[0;36mpairwise_distances_chunked\u001b[1;34m(X, Y, reduce_func, metric, n_jobs, working_memory, **kwds)\u001b[0m\n\u001b[0;32m   1621\u001b[0m         \u001b[1;32melse\u001b[0m\u001b[1;33m:\u001b[0m\u001b[1;33m\u001b[0m\u001b[1;33m\u001b[0m\u001b[0m\n\u001b[0;32m   1622\u001b[0m             \u001b[0mX_chunk\u001b[0m \u001b[1;33m=\u001b[0m \u001b[0mX\u001b[0m\u001b[1;33m[\u001b[0m\u001b[0msl\u001b[0m\u001b[1;33m]\u001b[0m\u001b[1;33m\u001b[0m\u001b[1;33m\u001b[0m\u001b[0m\n\u001b[1;32m-> 1623\u001b[1;33m         D_chunk = pairwise_distances(X_chunk, Y, metric=metric,\n\u001b[0m\u001b[0;32m   1624\u001b[0m                                      n_jobs=n_jobs, **kwds)\n\u001b[0;32m   1625\u001b[0m         if ((X is Y or Y is None)\n",
      "\u001b[1;32m~\\Anaconda3\\lib\\site-packages\\sklearn\\utils\\validation.py\u001b[0m in \u001b[0;36minner_f\u001b[1;34m(*args, **kwargs)\u001b[0m\n\u001b[0;32m     61\u001b[0m             \u001b[0mextra_args\u001b[0m \u001b[1;33m=\u001b[0m \u001b[0mlen\u001b[0m\u001b[1;33m(\u001b[0m\u001b[0margs\u001b[0m\u001b[1;33m)\u001b[0m \u001b[1;33m-\u001b[0m \u001b[0mlen\u001b[0m\u001b[1;33m(\u001b[0m\u001b[0mall_args\u001b[0m\u001b[1;33m)\u001b[0m\u001b[1;33m\u001b[0m\u001b[1;33m\u001b[0m\u001b[0m\n\u001b[0;32m     62\u001b[0m             \u001b[1;32mif\u001b[0m \u001b[0mextra_args\u001b[0m \u001b[1;33m<=\u001b[0m \u001b[1;36m0\u001b[0m\u001b[1;33m:\u001b[0m\u001b[1;33m\u001b[0m\u001b[1;33m\u001b[0m\u001b[0m\n\u001b[1;32m---> 63\u001b[1;33m                 \u001b[1;32mreturn\u001b[0m \u001b[0mf\u001b[0m\u001b[1;33m(\u001b[0m\u001b[1;33m*\u001b[0m\u001b[0margs\u001b[0m\u001b[1;33m,\u001b[0m \u001b[1;33m**\u001b[0m\u001b[0mkwargs\u001b[0m\u001b[1;33m)\u001b[0m\u001b[1;33m\u001b[0m\u001b[1;33m\u001b[0m\u001b[0m\n\u001b[0m\u001b[0;32m     64\u001b[0m \u001b[1;33m\u001b[0m\u001b[0m\n\u001b[0;32m     65\u001b[0m             \u001b[1;31m# extra_args > 0\u001b[0m\u001b[1;33m\u001b[0m\u001b[1;33m\u001b[0m\u001b[1;33m\u001b[0m\u001b[0m\n",
      "\u001b[1;32m~\\Anaconda3\\lib\\site-packages\\sklearn\\metrics\\pairwise.py\u001b[0m in \u001b[0;36mpairwise_distances\u001b[1;34m(X, Y, metric, n_jobs, force_all_finite, **kwds)\u001b[0m\n\u001b[0;32m   1788\u001b[0m         \u001b[0mfunc\u001b[0m \u001b[1;33m=\u001b[0m \u001b[0mpartial\u001b[0m\u001b[1;33m(\u001b[0m\u001b[0mdistance\u001b[0m\u001b[1;33m.\u001b[0m\u001b[0mcdist\u001b[0m\u001b[1;33m,\u001b[0m \u001b[0mmetric\u001b[0m\u001b[1;33m=\u001b[0m\u001b[0mmetric\u001b[0m\u001b[1;33m,\u001b[0m \u001b[1;33m**\u001b[0m\u001b[0mkwds\u001b[0m\u001b[1;33m)\u001b[0m\u001b[1;33m\u001b[0m\u001b[1;33m\u001b[0m\u001b[0m\n\u001b[0;32m   1789\u001b[0m \u001b[1;33m\u001b[0m\u001b[0m\n\u001b[1;32m-> 1790\u001b[1;33m     \u001b[1;32mreturn\u001b[0m \u001b[0m_parallel_pairwise\u001b[0m\u001b[1;33m(\u001b[0m\u001b[0mX\u001b[0m\u001b[1;33m,\u001b[0m \u001b[0mY\u001b[0m\u001b[1;33m,\u001b[0m \u001b[0mfunc\u001b[0m\u001b[1;33m,\u001b[0m \u001b[0mn_jobs\u001b[0m\u001b[1;33m,\u001b[0m \u001b[1;33m**\u001b[0m\u001b[0mkwds\u001b[0m\u001b[1;33m)\u001b[0m\u001b[1;33m\u001b[0m\u001b[1;33m\u001b[0m\u001b[0m\n\u001b[0m\u001b[0;32m   1791\u001b[0m \u001b[1;33m\u001b[0m\u001b[0m\n\u001b[0;32m   1792\u001b[0m \u001b[1;33m\u001b[0m\u001b[0m\n",
      "\u001b[1;32m~\\Anaconda3\\lib\\site-packages\\sklearn\\metrics\\pairwise.py\u001b[0m in \u001b[0;36m_parallel_pairwise\u001b[1;34m(X, Y, func, n_jobs, **kwds)\u001b[0m\n\u001b[0;32m   1357\u001b[0m \u001b[1;33m\u001b[0m\u001b[0m\n\u001b[0;32m   1358\u001b[0m     \u001b[1;32mif\u001b[0m \u001b[0meffective_n_jobs\u001b[0m\u001b[1;33m(\u001b[0m\u001b[0mn_jobs\u001b[0m\u001b[1;33m)\u001b[0m \u001b[1;33m==\u001b[0m \u001b[1;36m1\u001b[0m\u001b[1;33m:\u001b[0m\u001b[1;33m\u001b[0m\u001b[1;33m\u001b[0m\u001b[0m\n\u001b[1;32m-> 1359\u001b[1;33m         \u001b[1;32mreturn\u001b[0m \u001b[0mfunc\u001b[0m\u001b[1;33m(\u001b[0m\u001b[0mX\u001b[0m\u001b[1;33m,\u001b[0m \u001b[0mY\u001b[0m\u001b[1;33m,\u001b[0m \u001b[1;33m**\u001b[0m\u001b[0mkwds\u001b[0m\u001b[1;33m)\u001b[0m\u001b[1;33m\u001b[0m\u001b[1;33m\u001b[0m\u001b[0m\n\u001b[0m\u001b[0;32m   1360\u001b[0m \u001b[1;33m\u001b[0m\u001b[0m\n\u001b[0;32m   1361\u001b[0m     \u001b[1;31m# enforce a threading backend to prevent data communication overhead\u001b[0m\u001b[1;33m\u001b[0m\u001b[1;33m\u001b[0m\u001b[1;33m\u001b[0m\u001b[0m\n",
      "\u001b[1;32m~\\Anaconda3\\lib\\site-packages\\sklearn\\utils\\validation.py\u001b[0m in \u001b[0;36minner_f\u001b[1;34m(*args, **kwargs)\u001b[0m\n\u001b[0;32m     61\u001b[0m             \u001b[0mextra_args\u001b[0m \u001b[1;33m=\u001b[0m \u001b[0mlen\u001b[0m\u001b[1;33m(\u001b[0m\u001b[0margs\u001b[0m\u001b[1;33m)\u001b[0m \u001b[1;33m-\u001b[0m \u001b[0mlen\u001b[0m\u001b[1;33m(\u001b[0m\u001b[0mall_args\u001b[0m\u001b[1;33m)\u001b[0m\u001b[1;33m\u001b[0m\u001b[1;33m\u001b[0m\u001b[0m\n\u001b[0;32m     62\u001b[0m             \u001b[1;32mif\u001b[0m \u001b[0mextra_args\u001b[0m \u001b[1;33m<=\u001b[0m \u001b[1;36m0\u001b[0m\u001b[1;33m:\u001b[0m\u001b[1;33m\u001b[0m\u001b[1;33m\u001b[0m\u001b[0m\n\u001b[1;32m---> 63\u001b[1;33m                 \u001b[1;32mreturn\u001b[0m \u001b[0mf\u001b[0m\u001b[1;33m(\u001b[0m\u001b[1;33m*\u001b[0m\u001b[0margs\u001b[0m\u001b[1;33m,\u001b[0m \u001b[1;33m**\u001b[0m\u001b[0mkwargs\u001b[0m\u001b[1;33m)\u001b[0m\u001b[1;33m\u001b[0m\u001b[1;33m\u001b[0m\u001b[0m\n\u001b[0m\u001b[0;32m     64\u001b[0m \u001b[1;33m\u001b[0m\u001b[0m\n\u001b[0;32m     65\u001b[0m             \u001b[1;31m# extra_args > 0\u001b[0m\u001b[1;33m\u001b[0m\u001b[1;33m\u001b[0m\u001b[1;33m\u001b[0m\u001b[0m\n",
      "\u001b[1;32m~\\Anaconda3\\lib\\site-packages\\sklearn\\metrics\\pairwise.py\u001b[0m in \u001b[0;36meuclidean_distances\u001b[1;34m(X, Y, Y_norm_squared, squared, X_norm_squared)\u001b[0m\n\u001b[0;32m    270\u001b[0m            [1.41421356]])\n\u001b[0;32m    271\u001b[0m     \"\"\"\n\u001b[1;32m--> 272\u001b[1;33m     \u001b[0mX\u001b[0m\u001b[1;33m,\u001b[0m \u001b[0mY\u001b[0m \u001b[1;33m=\u001b[0m \u001b[0mcheck_pairwise_arrays\u001b[0m\u001b[1;33m(\u001b[0m\u001b[0mX\u001b[0m\u001b[1;33m,\u001b[0m \u001b[0mY\u001b[0m\u001b[1;33m)\u001b[0m\u001b[1;33m\u001b[0m\u001b[1;33m\u001b[0m\u001b[0m\n\u001b[0m\u001b[0;32m    273\u001b[0m \u001b[1;33m\u001b[0m\u001b[0m\n\u001b[0;32m    274\u001b[0m     \u001b[1;31m# If norms are passed as float32, they are unused. If arrays are passed as\u001b[0m\u001b[1;33m\u001b[0m\u001b[1;33m\u001b[0m\u001b[1;33m\u001b[0m\u001b[0m\n",
      "\u001b[1;32m~\\Anaconda3\\lib\\site-packages\\sklearn\\utils\\validation.py\u001b[0m in \u001b[0;36minner_f\u001b[1;34m(*args, **kwargs)\u001b[0m\n\u001b[0;32m     61\u001b[0m             \u001b[0mextra_args\u001b[0m \u001b[1;33m=\u001b[0m \u001b[0mlen\u001b[0m\u001b[1;33m(\u001b[0m\u001b[0margs\u001b[0m\u001b[1;33m)\u001b[0m \u001b[1;33m-\u001b[0m \u001b[0mlen\u001b[0m\u001b[1;33m(\u001b[0m\u001b[0mall_args\u001b[0m\u001b[1;33m)\u001b[0m\u001b[1;33m\u001b[0m\u001b[1;33m\u001b[0m\u001b[0m\n\u001b[0;32m     62\u001b[0m             \u001b[1;32mif\u001b[0m \u001b[0mextra_args\u001b[0m \u001b[1;33m<=\u001b[0m \u001b[1;36m0\u001b[0m\u001b[1;33m:\u001b[0m\u001b[1;33m\u001b[0m\u001b[1;33m\u001b[0m\u001b[0m\n\u001b[1;32m---> 63\u001b[1;33m                 \u001b[1;32mreturn\u001b[0m \u001b[0mf\u001b[0m\u001b[1;33m(\u001b[0m\u001b[1;33m*\u001b[0m\u001b[0margs\u001b[0m\u001b[1;33m,\u001b[0m \u001b[1;33m**\u001b[0m\u001b[0mkwargs\u001b[0m\u001b[1;33m)\u001b[0m\u001b[1;33m\u001b[0m\u001b[1;33m\u001b[0m\u001b[0m\n\u001b[0m\u001b[0;32m     64\u001b[0m \u001b[1;33m\u001b[0m\u001b[0m\n\u001b[0;32m     65\u001b[0m             \u001b[1;31m# extra_args > 0\u001b[0m\u001b[1;33m\u001b[0m\u001b[1;33m\u001b[0m\u001b[1;33m\u001b[0m\u001b[0m\n",
      "\u001b[1;32m~\\Anaconda3\\lib\\site-packages\\sklearn\\metrics\\pairwise.py\u001b[0m in \u001b[0;36mcheck_pairwise_arrays\u001b[1;34m(X, Y, precomputed, dtype, accept_sparse, force_all_finite, copy)\u001b[0m\n\u001b[0;32m    158\u001b[0m                              (X.shape[0], X.shape[1], Y.shape[0]))\n\u001b[0;32m    159\u001b[0m     \u001b[1;32melif\u001b[0m \u001b[0mX\u001b[0m\u001b[1;33m.\u001b[0m\u001b[0mshape\u001b[0m\u001b[1;33m[\u001b[0m\u001b[1;36m1\u001b[0m\u001b[1;33m]\u001b[0m \u001b[1;33m!=\u001b[0m \u001b[0mY\u001b[0m\u001b[1;33m.\u001b[0m\u001b[0mshape\u001b[0m\u001b[1;33m[\u001b[0m\u001b[1;36m1\u001b[0m\u001b[1;33m]\u001b[0m\u001b[1;33m:\u001b[0m\u001b[1;33m\u001b[0m\u001b[1;33m\u001b[0m\u001b[0m\n\u001b[1;32m--> 160\u001b[1;33m         raise ValueError(\"Incompatible dimension for X and Y matrices: \"\n\u001b[0m\u001b[0;32m    161\u001b[0m                          \"X.shape[1] == %d while Y.shape[1] == %d\" % (\n\u001b[0;32m    162\u001b[0m                              X.shape[1], Y.shape[1]))\n",
      "\u001b[1;31mValueError\u001b[0m: Incompatible dimension for X and Y matrices: X.shape[1] == 112 while Y.shape[1] == 111"
     ]
    }
   ],
   "source": [
    "sol = model.predict(mushrooms_new)\n",
    "sol = sol[-1]\n",
    "sol"
   ]
  },
  {
   "cell_type": "code",
   "execution_count": 75,
   "id": "7be9eb34",
   "metadata": {},
   "outputs": [],
   "source": [
    "# delete everything below"
   ]
  },
  {
   "cell_type": "code",
   "execution_count": 64,
   "id": "731e24e8",
   "metadata": {},
   "outputs": [],
   "source": [
    "a = list(mushrooms_new.columns)"
   ]
  },
  {
   "cell_type": "code",
   "execution_count": 67,
   "id": "24e9f991",
   "metadata": {},
   "outputs": [],
   "source": [
    "a = set(a)"
   ]
  },
  {
   "cell_type": "code",
   "execution_count": 68,
   "id": "440b4c0a",
   "metadata": {},
   "outputs": [],
   "source": [
    "b = ['bruises',\n",
    " 'gill-attachment',\n",
    " 'gill-spacing',\n",
    " 'gill-size',\n",
    " 'stalk-shape',\n",
    " 'cap-shape_b',\n",
    " 'cap-shape_c',\n",
    " 'cap-shape_f',\n",
    " 'cap-shape_k',\n",
    " 'cap-shape_s',\n",
    " 'cap-shape_x',\n",
    " 'cap-surface_f',\n",
    " 'cap-surface_g',\n",
    " 'cap-surface_s',\n",
    " 'cap-surface_y',\n",
    " 'cap-color_b',\n",
    " 'cap-color_c',\n",
    " 'cap-color_e',\n",
    " 'cap-color_g',\n",
    " 'cap-color_n',\n",
    " 'cap-color_p',\n",
    " 'cap-color_r',\n",
    " 'cap-color_u',\n",
    " 'cap-color_w',\n",
    " 'cap-color_y',\n",
    " 'odor_a',\n",
    " 'odor_c',\n",
    " 'odor_f',\n",
    " 'odor_l',\n",
    " 'odor_m',\n",
    " 'odor_n',\n",
    " 'odor_p',\n",
    " 'odor_s',\n",
    " 'odor_y',\n",
    " 'gill-color_b',\n",
    " 'gill-color_e',\n",
    " 'gill-color_g',\n",
    " 'gill-color_h',\n",
    " 'gill-color_k',\n",
    " 'gill-color_n',\n",
    " 'gill-color_o',\n",
    " 'gill-color_p',\n",
    " 'gill-color_r',\n",
    " 'gill-color_u',\n",
    " 'gill-color_w',\n",
    " 'gill-color_y',\n",
    " 'stalk-root_?',\n",
    " 'stalk-root_b',\n",
    " 'stalk-root_c',\n",
    " 'stalk-root_e',\n",
    " 'stalk-root_r',\n",
    " 'stalk-surface-above-ring_f',\n",
    " 'stalk-surface-above-ring_k',\n",
    " 'stalk-surface-above-ring_s',\n",
    " 'stalk-surface-above-ring_y',\n",
    " 'stalk-surface-below-ring_f',\n",
    " 'stalk-surface-below-ring_k',\n",
    " 'stalk-surface-below-ring_s',\n",
    " 'stalk-surface-below-ring_y',\n",
    " 'stalk-color-above-ring_b',\n",
    " 'stalk-color-above-ring_c',\n",
    " 'stalk-color-above-ring_e',\n",
    " 'stalk-color-above-ring_g',\n",
    " 'stalk-color-above-ring_n',\n",
    " 'stalk-color-above-ring_o',\n",
    " 'stalk-color-above-ring_p',\n",
    " 'stalk-color-above-ring_w',\n",
    " 'stalk-color-above-ring_y',\n",
    " 'stalk-color-below-ring_b',\n",
    " 'stalk-color-below-ring_c',\n",
    " 'stalk-color-below-ring_e',\n",
    " 'stalk-color-below-ring_g',\n",
    " 'stalk-color-below-ring_n',\n",
    " 'stalk-color-below-ring_o',\n",
    " 'stalk-color-below-ring_p',\n",
    " 'stalk-color-below-ring_w',\n",
    " 'stalk-color-below-ring_y',\n",
    " 'veil-color_n',\n",
    " 'veil-color_o',\n",
    " 'veil-color_w',\n",
    " 'veil-color_y',\n",
    " 'ring-number_n',\n",
    " 'ring-number_o',\n",
    " 'ring-number_t',\n",
    " 'ring-type_e',\n",
    " 'ring-type_f',\n",
    " 'ring-type_l',\n",
    " 'ring-type_n',\n",
    " 'ring-type_p',\n",
    " 'spore-print-color_b',\n",
    " 'spore-print-color_h',\n",
    " 'spore-print-color_k',\n",
    " 'spore-print-color_n',\n",
    " 'spore-print-color_o',\n",
    " 'spore-print-color_r',\n",
    " 'spore-print-color_u',\n",
    " 'spore-print-color_w',\n",
    " 'spore-print-color_y',\n",
    " 'population_a',\n",
    " 'population_c',\n",
    " 'population_n',\n",
    " 'population_s',\n",
    " 'population_v',\n",
    " 'population_y',\n",
    " 'habitat_d',\n",
    " 'habitat_g',\n",
    " 'habitat_l',\n",
    " 'habitat_m',\n",
    " 'habitat_p',\n",
    " 'habitat_u',\n",
    " 'habitat_w']"
   ]
  },
  {
   "cell_type": "code",
   "execution_count": 71,
   "id": "6b5b43f5",
   "metadata": {},
   "outputs": [],
   "source": [
    "b = set(b)"
   ]
  },
  {
   "cell_type": "code",
   "execution_count": 73,
   "id": "e6a7ac32",
   "metadata": {},
   "outputs": [
    {
     "data": {
      "text/plain": [
       "{'bruises',\n",
       " 'cap-color_b',\n",
       " 'cap-color_c',\n",
       " 'cap-color_e',\n",
       " 'cap-color_g',\n",
       " 'cap-color_n',\n",
       " 'cap-color_p',\n",
       " 'cap-color_r',\n",
       " 'cap-color_u',\n",
       " 'cap-color_w',\n",
       " 'cap-color_y',\n",
       " 'cap-shape_b',\n",
       " 'cap-shape_c',\n",
       " 'cap-shape_f',\n",
       " 'cap-shape_k',\n",
       " 'cap-shape_s',\n",
       " 'cap-shape_x',\n",
       " 'cap-surface_f',\n",
       " 'cap-surface_g',\n",
       " 'cap-surface_s',\n",
       " 'cap-surface_y',\n",
       " 'gill-attachment',\n",
       " 'gill-color_b',\n",
       " 'gill-color_e',\n",
       " 'gill-color_g',\n",
       " 'gill-color_h',\n",
       " 'gill-color_k',\n",
       " 'gill-color_n',\n",
       " 'gill-color_o',\n",
       " 'gill-color_p',\n",
       " 'gill-color_r',\n",
       " 'gill-color_u',\n",
       " 'gill-color_w',\n",
       " 'gill-color_y',\n",
       " 'gill-size',\n",
       " 'gill-spacing',\n",
       " 'habitat_d',\n",
       " 'habitat_g',\n",
       " 'habitat_l',\n",
       " 'habitat_m',\n",
       " 'habitat_p',\n",
       " 'habitat_u',\n",
       " 'habitat_w',\n",
       " 'odor_a',\n",
       " 'odor_c',\n",
       " 'odor_f',\n",
       " 'odor_l',\n",
       " 'odor_m',\n",
       " 'odor_n',\n",
       " 'odor_p',\n",
       " 'odor_s',\n",
       " 'odor_y',\n",
       " 'population_a',\n",
       " 'population_c',\n",
       " 'population_n',\n",
       " 'population_s',\n",
       " 'population_v',\n",
       " 'population_y',\n",
       " 'ring-number_n',\n",
       " 'ring-number_o',\n",
       " 'ring-number_t',\n",
       " 'ring-type_e',\n",
       " 'ring-type_f',\n",
       " 'ring-type_l',\n",
       " 'ring-type_n',\n",
       " 'ring-type_p',\n",
       " 'spore-print-color_b',\n",
       " 'spore-print-color_h',\n",
       " 'spore-print-color_k',\n",
       " 'spore-print-color_n',\n",
       " 'spore-print-color_o',\n",
       " 'spore-print-color_r',\n",
       " 'spore-print-color_u',\n",
       " 'spore-print-color_w',\n",
       " 'spore-print-color_y',\n",
       " 'stalk-color-above-ring_b',\n",
       " 'stalk-color-above-ring_c',\n",
       " 'stalk-color-above-ring_e',\n",
       " 'stalk-color-above-ring_g',\n",
       " 'stalk-color-above-ring_n',\n",
       " 'stalk-color-above-ring_o',\n",
       " 'stalk-color-above-ring_p',\n",
       " 'stalk-color-above-ring_w',\n",
       " 'stalk-color-above-ring_y',\n",
       " 'stalk-color-below-ring_b',\n",
       " 'stalk-color-below-ring_c',\n",
       " 'stalk-color-below-ring_e',\n",
       " 'stalk-color-below-ring_g',\n",
       " 'stalk-color-below-ring_n',\n",
       " 'stalk-color-below-ring_o',\n",
       " 'stalk-color-below-ring_p',\n",
       " 'stalk-color-below-ring_w',\n",
       " 'stalk-color-below-ring_y',\n",
       " 'stalk-root_?',\n",
       " 'stalk-root_b',\n",
       " 'stalk-root_c',\n",
       " 'stalk-root_e',\n",
       " 'stalk-root_r',\n",
       " 'stalk-shape',\n",
       " 'stalk-surface-above-ring_f',\n",
       " 'stalk-surface-above-ring_k',\n",
       " 'stalk-surface-above-ring_s',\n",
       " 'stalk-surface-above-ring_y',\n",
       " 'stalk-surface-below-ring_f',\n",
       " 'stalk-surface-below-ring_k',\n",
       " 'stalk-surface-below-ring_s',\n",
       " 'stalk-surface-below-ring_y',\n",
       " 'veil-color_n',\n",
       " 'veil-color_o',\n",
       " 'veil-color_w',\n",
       " 'veil-color_y'}"
      ]
     },
     "execution_count": 73,
     "metadata": {},
     "output_type": "execute_result"
    }
   ],
   "source": [
    "b"
   ]
  },
  {
   "cell_type": "code",
   "execution_count": 74,
   "id": "23bf1a11",
   "metadata": {},
   "outputs": [
    {
     "data": {
      "text/plain": [
       "{'ring-type_c'}"
      ]
     },
     "execution_count": 74,
     "metadata": {},
     "output_type": "execute_result"
    }
   ],
   "source": [
    "a.difference(b)"
   ]
  }
 ],
 "metadata": {
  "kernelspec": {
   "display_name": "Python 3",
   "language": "python",
   "name": "python3"
  },
  "language_info": {
   "codemirror_mode": {
    "name": "ipython",
    "version": 3
   },
   "file_extension": ".py",
   "mimetype": "text/x-python",
   "name": "python",
   "nbconvert_exporter": "python",
   "pygments_lexer": "ipython3",
   "version": "3.8.8"
  }
 },
 "nbformat": 4,
 "nbformat_minor": 5
}
