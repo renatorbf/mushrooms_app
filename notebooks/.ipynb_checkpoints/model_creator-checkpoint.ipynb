{
 "cells": [
  {
   "cell_type": "code",
   "execution_count": 1,
   "id": "b63bb4ba",
   "metadata": {},
   "outputs": [],
   "source": [
    "import pandas as pd\n",
    "import numpy as np"
   ]
  },
  {
   "cell_type": "code",
   "execution_count": 2,
   "id": "d8c33e5a",
   "metadata": {},
   "outputs": [],
   "source": [
    "mushrooms = pd.read_csv('https://raw.githubusercontent.com/renatorbf/mushrooms/main/mushrooms.csv')"
   ]
  },
  {
   "cell_type": "code",
   "execution_count": 3,
   "id": "253e486a",
   "metadata": {},
   "outputs": [],
   "source": [
    "import pickle\n",
    "\n",
    "pickle.dump(mushrooms, open('mushrooms.p', 'wb'))"
   ]
  },
  {
   "cell_type": "code",
   "execution_count": 5,
   "id": "424a65ab",
   "metadata": {},
   "outputs": [],
   "source": [
    "# mushrooms.head()"
   ]
  },
  {
   "cell_type": "code",
   "execution_count": 6,
   "id": "1be90fc8",
   "metadata": {},
   "outputs": [],
   "source": [
    "mushrooms_transformed = mushrooms.copy()"
   ]
  },
  {
   "cell_type": "code",
   "execution_count": 7,
   "id": "64f484dd",
   "metadata": {},
   "outputs": [],
   "source": [
    "#mushrooms['veil-type'].value_counts()\n",
    "# drop veil-type, because all the mushrooms have the same value\n",
    "mushrooms_transformed = mushrooms_transformed.drop(columns=['veil-type'])"
   ]
  },
  {
   "cell_type": "code",
   "execution_count": 8,
   "id": "713ef8d7",
   "metadata": {},
   "outputs": [],
   "source": [
    "many_labels = []\n",
    "\n",
    "for col in mushrooms.columns:\n",
    "  # print(col)\n",
    "  # print(mushrooms[col].value_counts())\n",
    "  # print(mushrooms[col].nunique())\n",
    "  if mushrooms[col].nunique() > 2:\n",
    "    many_labels.append(col)"
   ]
  },
  {
   "cell_type": "code",
   "execution_count": 86,
   "id": "dcc1c95c",
   "metadata": {},
   "outputs": [
    {
     "data": {
      "text/plain": [
       "['cap-shape',\n",
       " 'cap-surface',\n",
       " 'cap-color',\n",
       " 'odor',\n",
       " 'gill-color',\n",
       " 'stalk-root',\n",
       " 'stalk-surface-above-ring',\n",
       " 'stalk-surface-below-ring',\n",
       " 'stalk-color-above-ring',\n",
       " 'stalk-color-below-ring',\n",
       " 'veil-color',\n",
       " 'ring-number',\n",
       " 'ring-type',\n",
       " 'spore-print-color',\n",
       " 'population',\n",
       " 'habitat']"
      ]
     },
     "execution_count": 86,
     "metadata": {},
     "output_type": "execute_result"
    }
   ],
   "source": [
    "many_labels"
   ]
  },
  {
   "cell_type": "code",
   "execution_count": 9,
   "id": "c886c049",
   "metadata": {},
   "outputs": [],
   "source": [
    "two_labels = []\n",
    "\n",
    "for col in mushrooms_transformed.columns:\n",
    "  # print(col)\n",
    "  # print(mushrooms[col].value_counts())\n",
    "  # print(mushrooms[col].nunique())\n",
    "  if mushrooms_transformed[col].nunique() <= 2:\n",
    "    two_labels.append(col)"
   ]
  },
  {
   "cell_type": "code",
   "execution_count": 10,
   "id": "adc48811",
   "metadata": {},
   "outputs": [],
   "source": [
    "# column class: 0 -> poisonous, 1 -> edible\n",
    "mushrooms_transformed['class'] = mushrooms['class'].replace({'p':0, 'e':1})\n",
    "\n",
    "# f - false, t - true\n",
    "mushrooms_transformed['bruises'] = mushrooms['bruises'].replace({'f':0, 't':1})\n",
    "\n",
    "# a - attached, f-free\n",
    "mushrooms_transformed['gill-attachment'] = mushrooms['gill-attachment'].replace({'f':0, 'a':1})\n",
    "\n",
    "# c - close, w - crowded\n",
    "mushrooms_transformed['gill-spacing'] = mushrooms['gill-spacing'].replace({'c':0, 'w':1})\n",
    "\n",
    "\n",
    "mushrooms_transformed['gill-size'] = mushrooms['gill-size'].replace({'n':0, 'b':1})\n",
    "\n",
    "mushrooms_transformed['stalk-shape'] = mushrooms['stalk-shape'].replace({'t':0, 'e':1})\n"
   ]
  },
  {
   "cell_type": "code",
   "execution_count": 15,
   "id": "21143165",
   "metadata": {},
   "outputs": [],
   "source": [
    "# mushrooms_transformed.head()"
   ]
  },
  {
   "cell_type": "code",
   "execution_count": 13,
   "id": "a91d3423",
   "metadata": {},
   "outputs": [],
   "source": [
    "# one hot encoding for the remaining columns\n",
    "mushrooms_transformed = pd.get_dummies(mushrooms_transformed, columns= many_labels)\n"
   ]
  },
  {
   "cell_type": "code",
   "execution_count": 16,
   "id": "763285c7",
   "metadata": {},
   "outputs": [],
   "source": [
    "X = mushrooms_transformed.drop(columns=['class'])"
   ]
  },
  {
   "cell_type": "code",
   "execution_count": 17,
   "id": "a8debc1d",
   "metadata": {},
   "outputs": [],
   "source": [
    "y = mushrooms_transformed['class']"
   ]
  },
  {
   "cell_type": "code",
   "execution_count": 19,
   "id": "a632f419",
   "metadata": {},
   "outputs": [],
   "source": [
    "# starting the machine learning"
   ]
  },
  {
   "cell_type": "code",
   "execution_count": 20,
   "id": "c2355cf0",
   "metadata": {},
   "outputs": [],
   "source": [
    "from sklearn.model_selection import train_test_split"
   ]
  },
  {
   "cell_type": "code",
   "execution_count": 67,
   "id": "813aab1f",
   "metadata": {},
   "outputs": [],
   "source": [
    "X_train, X_test, y_train, y_test = train_test_split(X, y, train_size=0.05, random_state=0)"
   ]
  },
  {
   "cell_type": "code",
   "execution_count": 68,
   "id": "090d4607",
   "metadata": {},
   "outputs": [],
   "source": [
    "# selected model KNN with 1 neighbor"
   ]
  },
  {
   "cell_type": "code",
   "execution_count": 69,
   "id": "92cd2318",
   "metadata": {},
   "outputs": [],
   "source": [
    "from sklearn.neighbors import KNeighborsClassifier"
   ]
  },
  {
   "cell_type": "code",
   "execution_count": 80,
   "id": "a4df030d",
   "metadata": {},
   "outputs": [],
   "source": [
    "model = KNeighborsClassifier(n_neighbors = 1)"
   ]
  },
  {
   "cell_type": "code",
   "execution_count": 81,
   "id": "df6bd670",
   "metadata": {},
   "outputs": [],
   "source": [
    "model = model.fit(X_train, y_train)"
   ]
  },
  {
   "cell_type": "code",
   "execution_count": 82,
   "id": "21c30a06",
   "metadata": {},
   "outputs": [
    {
     "data": {
      "text/plain": [
       "array([0, 1, 1, ..., 0, 1, 1], dtype=int64)"
      ]
     },
     "execution_count": 82,
     "metadata": {},
     "output_type": "execute_result"
    }
   ],
   "source": [
    "model.predict(X_test)"
   ]
  },
  {
   "cell_type": "code",
   "execution_count": 83,
   "id": "096e786b",
   "metadata": {},
   "outputs": [],
   "source": [
    "from sklearn.metrics import accuracy_score"
   ]
  },
  {
   "cell_type": "code",
   "execution_count": 84,
   "id": "6d2de337",
   "metadata": {},
   "outputs": [
    {
     "data": {
      "text/plain": [
       "0.9989634620367971"
      ]
     },
     "execution_count": 84,
     "metadata": {},
     "output_type": "execute_result"
    }
   ],
   "source": [
    "accuracy_score(model.predict(X_test),np.array(y_test))"
   ]
  },
  {
   "cell_type": "code",
   "execution_count": 85,
   "id": "b66ba7d1",
   "metadata": {},
   "outputs": [],
   "source": [
    "pickle.dump(model, open('model.p', 'wb'))"
   ]
  },
  {
   "cell_type": "code",
   "execution_count": null,
   "id": "75f0a71f",
   "metadata": {},
   "outputs": [],
   "source": []
  }
 ],
 "metadata": {
  "kernelspec": {
   "display_name": "Python 3",
   "language": "python",
   "name": "python3"
  },
  "language_info": {
   "codemirror_mode": {
    "name": "ipython",
    "version": 3
   },
   "file_extension": ".py",
   "mimetype": "text/x-python",
   "name": "python",
   "nbconvert_exporter": "python",
   "pygments_lexer": "ipython3",
   "version": "3.8.8"
  }
 },
 "nbformat": 4,
 "nbformat_minor": 5
}
