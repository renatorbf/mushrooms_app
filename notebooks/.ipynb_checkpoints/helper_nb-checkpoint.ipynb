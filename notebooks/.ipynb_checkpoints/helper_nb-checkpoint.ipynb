{
 "cells": [
  {
   "cell_type": "code",
   "execution_count": 106,
   "id": "1fd00319",
   "metadata": {},
   "outputs": [],
   "source": [
    "import pandas as pd\n",
    "import numpy as np"
   ]
  },
  {
   "cell_type": "code",
   "execution_count": 107,
   "id": "43839757",
   "metadata": {},
   "outputs": [],
   "source": [
    "import pickle"
   ]
  },
  {
   "cell_type": "code",
   "execution_count": 108,
   "id": "366b74b1",
   "metadata": {},
   "outputs": [],
   "source": [
    "userx = ['b', 'f', 'n', 't', 'a', 'a', 'c', 'b', 'k', 'e', 'b', 'f', 'y', 'n', 'b', 'p', 'o', 'o', 'e', 'n', 'c', 'l']"
   ]
  },
  {
   "cell_type": "code",
   "execution_count": 109,
   "id": "19aa4419",
   "metadata": {},
   "outputs": [],
   "source": [
    "with open('model.p', 'rb') as file:\n",
    "        model = pickle.load(file)"
   ]
  },
  {
   "cell_type": "code",
   "execution_count": 110,
   "id": "172ae0d2",
   "metadata": {},
   "outputs": [],
   "source": [
    "with open('mushrooms.p', 'rb') as file:\n",
    "        mushrooms = pickle.load(file)"
   ]
  },
  {
   "cell_type": "code",
   "execution_count": 111,
   "id": "4eddb336",
   "metadata": {},
   "outputs": [],
   "source": [
    "mushrooms_new = mushrooms.copy()"
   ]
  },
  {
   "cell_type": "code",
   "execution_count": 112,
   "id": "c4a35109",
   "metadata": {},
   "outputs": [],
   "source": [
    "# i only wnat the columns' names now\n",
    "mushrooms_new = mushrooms_new.iloc[0:0]"
   ]
  },
  {
   "cell_type": "code",
   "execution_count": 113,
   "id": "05e4bc00",
   "metadata": {},
   "outputs": [],
   "source": [
    "list_of_unique = []\n",
    "for col in mushrooms:\n",
    "    list_of_unique.append(list(mushrooms[col].unique()))"
   ]
  },
  {
   "cell_type": "code",
   "execution_count": 114,
   "id": "1a66614b",
   "metadata": {},
   "outputs": [],
   "source": [
    "n_rows = 12"
   ]
  },
  {
   "cell_type": "code",
   "execution_count": 115,
   "id": "92315790",
   "metadata": {},
   "outputs": [],
   "source": [
    "for i in range(n_rows):\n",
    "    # print(i)\n",
    "    temp_list = []\n",
    "    for col in list_of_unique:\n",
    "        if (len(col) > i):\n",
    "            # print(col[i])\n",
    "            temp_list.append(col[i])\n",
    "        else:\n",
    "            # print(col[0])\n",
    "            temp_list.append(col[0])\n",
    "    mushrooms_new.loc[i] = temp_list"
   ]
  },
  {
   "cell_type": "code",
   "execution_count": 116,
   "id": "821b9cd0",
   "metadata": {},
   "outputs": [],
   "source": [
    "# mushrooms_new"
   ]
  },
  {
   "cell_type": "code",
   "execution_count": 117,
   "id": "5f457a45",
   "metadata": {},
   "outputs": [],
   "source": [
    "# drop class from this df\n",
    "mushrooms_new = mushrooms_new.drop(columns=['class'])"
   ]
  },
  {
   "cell_type": "code",
   "execution_count": 118,
   "id": "70698e07",
   "metadata": {},
   "outputs": [],
   "source": [
    "# start function here"
   ]
  },
  {
   "cell_type": "code",
   "execution_count": 119,
   "id": "c4f56cdd",
   "metadata": {},
   "outputs": [],
   "source": [
    "mushrooms_new.loc[12] = userx"
   ]
  },
  {
   "cell_type": "code",
   "execution_count": 120,
   "id": "2fa13947",
   "metadata": {},
   "outputs": [],
   "source": [
    "# # column class: 0 -> poisonous, 1 -> edible\n",
    "\n",
    "# # f - false, t - true\n",
    "mushrooms_new['bruises'] = mushrooms_new['bruises'].replace({'f':0, 't':1})\n",
    "\n",
    "# # a - attached, f-free\n",
    "mushrooms_new['gill-attachment'] = mushrooms_new['gill-attachment'].replace({'f':0, 'a':1})\n",
    "\n",
    "# # c - close, w - crowded\n",
    "mushrooms_new['gill-spacing'] = mushrooms_new['gill-spacing'].replace({'c':0, 'w':1})\n",
    "\n",
    "\n",
    "mushrooms_new['gill-size'] = mushrooms_new['gill-size'].replace({'n':0, 'b':1})\n",
    "\n",
    "mushrooms_new['stalk-shape'] = mushrooms_new['stalk-shape'].replace({'t':0, 'e':1})"
   ]
  },
  {
   "cell_type": "code",
   "execution_count": 121,
   "id": "5c3e70cc",
   "metadata": {},
   "outputs": [],
   "source": [
    "many_labels = ['cap-shape', 'cap-surface', 'cap-color', 'odor', 'gill-color', 'stalk-root', 'stalk-surface-above-ring', 'stalk-surface-below-ring', 'stalk-color-above-ring', 'stalk-color-below-ring', 'veil-color', 'ring-number', 'ring-type', 'spore-print-color', 'population', 'habitat']"
   ]
  },
  {
   "cell_type": "code",
   "execution_count": 122,
   "id": "51e438b0",
   "metadata": {},
   "outputs": [],
   "source": [
    "mushrooms_new = mushrooms_new.drop(columns=['veil-type'])"
   ]
  },
  {
   "cell_type": "code",
   "execution_count": 123,
   "id": "8ead2f96",
   "metadata": {},
   "outputs": [],
   "source": [
    "mushrooms_new = pd.get_dummies(mushrooms_new, columns= many_labels)"
   ]
  },
  {
   "cell_type": "code",
   "execution_count": 126,
   "id": "bcbbb66a",
   "metadata": {},
   "outputs": [
    {
     "data": {
      "text/plain": [
       "1"
      ]
     },
     "execution_count": 126,
     "metadata": {},
     "output_type": "execute_result"
    }
   ],
   "source": [
    "sol = model.predict(mushrooms_new)\n",
    "sol = sol[-1]\n",
    "sol"
   ]
  },
  {
   "cell_type": "code",
   "execution_count": null,
   "id": "7be9eb34",
   "metadata": {},
   "outputs": [],
   "source": []
  },
  {
   "cell_type": "code",
   "execution_count": null,
   "id": "731e24e8",
   "metadata": {},
   "outputs": [],
   "source": []
  }
 ],
 "metadata": {
  "kernelspec": {
   "display_name": "Python 3",
   "language": "python",
   "name": "python3"
  },
  "language_info": {
   "codemirror_mode": {
    "name": "ipython",
    "version": 3
   },
   "file_extension": ".py",
   "mimetype": "text/x-python",
   "name": "python",
   "nbconvert_exporter": "python",
   "pygments_lexer": "ipython3",
   "version": "3.8.8"
  }
 },
 "nbformat": 4,
 "nbformat_minor": 5
}
